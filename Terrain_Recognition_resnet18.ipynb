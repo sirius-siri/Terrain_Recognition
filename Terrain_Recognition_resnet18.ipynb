{
 "cells": [
  {
   "cell_type": "code",
   "execution_count": 2,
   "metadata": {},
   "outputs": [],
   "source": [
    "import os\n",
    "import torch\n",
    "import torch.nn as nn\n",
    "import torchvision.transforms as transforms\n",
    "import torchvision.datasets as datasets\n",
    "from torch.utils.data import DataLoader\n",
    "from PIL import Image\n",
    "from torchvision import models"
   ]
  },
  {
   "cell_type": "code",
   "execution_count": 3,
   "metadata": {},
   "outputs": [],
   "source": [
    "num_classes = 4  # You have four classes: 'green,' 'sandy,' 'marshy,' and 'rocky'\n",
    "class_names = ['green', 'sandy', 'marshy', 'rocky']"
   ]
  },
  {
   "cell_type": "code",
   "execution_count": 4,
   "metadata": {},
   "outputs": [
    {
     "name": "stderr",
     "output_type": "stream",
     "text": [
      "c:\\Users\\Shree\\anaconda3\\lib\\site-packages\\torchvision\\models\\_utils.py:208: UserWarning: The parameter 'pretrained' is deprecated since 0.13 and may be removed in the future, please use 'weights' instead.\n",
      "  warnings.warn(\n",
      "c:\\Users\\Shree\\anaconda3\\lib\\site-packages\\torchvision\\models\\_utils.py:223: UserWarning: Arguments other than a weight enum or `None` for 'weights' are deprecated since 0.13 and may be removed in the future. The current behavior is equivalent to passing `weights=ResNet18_Weights.IMAGENET1K_V1`. You can also use `weights=ResNet18_Weights.DEFAULT` to get the most up-to-date weights.\n",
      "  warnings.warn(msg)\n"
     ]
    }
   ],
   "source": [
    "# Initialize the ResNet-18 model\n",
    "resnet = models.resnet18(pretrained=True)\n",
    "# Modify the final fully connected layer\n",
    "resnet.fc = nn.Linear(resnet.fc.in_features, num_classes)"
   ]
  },
  {
   "cell_type": "code",
   "execution_count": 5,
   "metadata": {},
   "outputs": [],
   "source": [
    "# Define data transformations\n",
    "transform = transforms.Compose([\n",
    "    transforms.Resize((224, 224)),\n",
    "    transforms.ToTensor(),\n",
    "    transforms.Normalize(mean=[0.485, 0.456, 0.406], std=[0.229, 0.224, 0.225]),\n",
    "])\n"
   ]
  },
  {
   "cell_type": "code",
   "execution_count": 6,
   "metadata": {},
   "outputs": [],
   "source": [
    "dataset_path = 'E:/SIH_2023/TERRAIN'\n",
    "train_dataset = datasets.ImageFolder(root=dataset_path, transform=transform)\n"
   ]
  },
  {
   "cell_type": "code",
   "execution_count": 7,
   "metadata": {},
   "outputs": [],
   "source": [
    "train_loader = DataLoader(train_dataset, batch_size=32, shuffle=True, num_workers=4)"
   ]
  },
  {
   "cell_type": "code",
   "execution_count": 8,
   "metadata": {},
   "outputs": [
    {
     "name": "stdout",
     "output_type": "stream",
     "text": [
      "Epoch [1/3] Loss: 0.5493406057357788\n",
      "Epoch [2/3] Loss: 0.37252646684646606\n",
      "Epoch [3/3] Loss: 0.45089736580848694\n",
      "Training finished.\n",
      "Predicted class for : sandy\n",
      "Accuracy on the training dataset: 82.33173076923077%\n"
     ]
    }
   ],
   "source": [
    "if __name__ == '__main__':\n",
    "    # Define the loss function and optimizer\n",
    "    criterion = nn.CrossEntropyLoss()\n",
    "    optimizer = torch.optim.Adam(resnet.parameters(), lr=0.001)\n",
    "     # Training loop\n",
    "    num_epochs = 3 # You can adjust the number of training epochs\n",
    "    for epoch in range(num_epochs):\n",
    "        for i, data in enumerate(train_loader, 0):\n",
    "            inputs, labels = data\n",
    "            optimizer.zero_grad()\n",
    "            outputs = resnet(inputs)\n",
    "            loss = criterion(outputs, labels)\n",
    "            loss.backward()\n",
    "            optimizer.step()\n",
    "        print(f\"Epoch [{epoch + 1}/{num_epochs}] Loss: {loss.item()}\")\n",
    "\n",
    "    print(\"Training finished.\")\n",
    "\n",
    "    # Save the trained model\n",
    "    torch.save(resnet.state_dict(), 'resnet_model.pth')\n",
    "\n",
    "    # Load the trained model for prediction\n",
    "    resnet.load_state_dict(torch.load('resnet_model.pth'))\n",
    "    resnet.eval()\n",
    "\n",
    "    # Define a function for prediction\n",
    "    def predict_image(image_path):\n",
    "        image = Image.open(image_path)\n",
    "        image_tensor = transform(image).unsqueeze(0)  # Add a batch dimension\n",
    "        with torch.no_grad():\n",
    "            outputs = resnet(image_tensor)\n",
    "            _, predicted = torch.max(outputs, 1)\n",
    "            class_index = predicted.item()\n",
    "            class_name = class_names[class_index]  # Map class index to class name\n",
    "        return class_name\n",
    "\n",
    "    # Address of the image to be predicted\n",
    "    prediction_image_path = 'E:/grass1.jpg'\n",
    "\n",
    "    # Perform prediction\n",
    "    predicted_class = predict_image(prediction_image_path)\n",
    "    print(f\"Predicted class for : {predicted_class}\")\n",
    "\n",
    "    # Evaluation\n",
    "    correct = 0\n",
    "    total = 0\n",
    "    with torch.no_grad():\n",
    "        for data in train_loader:\n",
    "            images, labels = data\n",
    "            outputs = resnet(images)\n",
    "            _, predicted = torch.max(outputs.data, 1)\n",
    "            total += labels.size(0)\n",
    "            correct += (predicted == labels).sum().item()\n",
    "\n",
    "    print(f\"Accuracy on the training dataset: {100 * correct / total}%\")"
   ]
  },
  {
   "cell_type": "code",
   "execution_count": null,
   "metadata": {},
   "outputs": [],
   "source": []
  }
 ],
 "metadata": {
  "kernelspec": {
   "display_name": "base",
   "language": "python",
   "name": "python3"
  },
  "language_info": {
   "codemirror_mode": {
    "name": "ipython",
    "version": 3
   },
   "file_extension": ".py",
   "mimetype": "text/x-python",
   "name": "python",
   "nbconvert_exporter": "python",
   "pygments_lexer": "ipython3",
   "version": "3.9.7"
  },
  "orig_nbformat": 4
 },
 "nbformat": 4,
 "nbformat_minor": 2
}
